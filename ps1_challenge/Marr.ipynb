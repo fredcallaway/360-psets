{
 "cells": [
  {
   "cell_type": "markdown",
   "metadata": {},
   "source": [
    "Change the following variable to `True` if you want us to grade this challenge problem. \n",
    "\n",
    "**IMPORTANT**: You can only get points for _one_ challenge problem per problem set. This means that even if you complete both challenge problems on this problem set, we will only count your best score between the two."
   ]
  },
  {
   "cell_type": "code",
   "execution_count": null,
   "metadata": {},
   "outputs": [],
   "source": [
    "SUBMIT_CHALLENGE = False"
   ]
  },
  {
   "cell_type": "markdown",
   "metadata": {},
   "source": [
    "## Marr 30 Years Later"
   ]
  },
  {
   "cell_type": "markdown",
   "metadata": {},
   "source": [
    "<div class=\"alert alert-success\">\n",
    "Choose one article from _Topics in Cognitive Science_'s  recent issue \"Thirty years after Marr's Vision: Levels of analysis in Cognitive Science\" and summarize its argument. Your response should be 3-5 paragraphs in length and should also include your evaluation of the argument, including any objections you might have. Don't forget to mention which article you chose!\n",
    "</div>\n",
    "\n",
    "**Note**: You can access the _Topics in Cognitive Science_ articles from the directory `ps1_challenge/mar_30`."
   ]
  },
  {
   "cell_type": "markdown",
   "metadata": {
    "collapsed": true,
    "deletable": false,
    "nbgrader": {
     "cell_type": "markdown",
     "checksum": "97a91d90c5c9084549e77c2f2a710011",
     "grade": true,
     "grade_id": "challenge_marr",
     "locked": false,
     "points": 1,
     "schema_version": 3,
     "solution": true
    }
   },
   "source": [
    "YOUR ANSWER HERE"
   ]
  }
 ],
 "metadata": {
  "kernelspec": {
   "display_name": "Python 3",
   "language": "python",
   "name": "python3"
  },
  "language_info": {
   "codemirror_mode": {
    "name": "ipython",
    "version": 3
   },
   "file_extension": ".py",
   "mimetype": "text/x-python",
   "name": "python",
   "nbconvert_exporter": "python",
   "pygments_lexer": "ipython3",
   "version": "3.6.7"
  }
 },
 "nbformat": 4,
 "nbformat_minor": 1
}
