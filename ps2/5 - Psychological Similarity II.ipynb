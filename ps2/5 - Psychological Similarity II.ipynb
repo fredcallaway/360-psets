{
 "cells": [
  {
   "cell_type": "code",
   "execution_count": null,
   "metadata": {},
   "outputs": [],
   "source": [
    "%matplotlib inline\n",
    "import numpy as np\n",
    "import matplotlib.pyplot as plt\n",
    "\n",
    "# special imports for computing mds and dendrograms\n",
    "from representations import mds, plot_dendrogram"
   ]
  },
  {
   "cell_type": "markdown",
   "metadata": {},
   "source": [
    "----\n",
    "\n",
    "## Part A (1 point)"
   ]
  },
  {
   "cell_type": "markdown",
   "metadata": {},
   "source": [
    "Louis Reasoner thinks that Alyssa's representations of the kinship data using MDS and the dendrogram is pretty cool. He decides to try modeling some different data that he has: similarity judgments of colors. Loading in the data, Louis sees that it has three keys:"
   ]
  },
  {
   "cell_type": "code",
   "execution_count": null,
   "metadata": {},
   "outputs": [],
   "source": [
    "color_data = np.load(\"data/color.npz\")\n",
    "list(color_data.keys())"
   ]
  },
  {
   "cell_type": "markdown",
   "metadata": {},
   "source": [
    "The array `rgba` corresponds to RGBA (red-green-blue-alpha) color values:"
   ]
  },
  {
   "cell_type": "code",
   "execution_count": null,
   "metadata": {},
   "outputs": [],
   "source": [
    "rgba = color_data['rgba']\n",
    "rgba"
   ]
  },
  {
   "cell_type": "markdown",
   "metadata": {},
   "source": [
    "The array `wavelengths` are the nanometer wavelengths corresponding to the RGBA values:"
   ]
  },
  {
   "cell_type": "code",
   "execution_count": null,
   "metadata": {},
   "outputs": [],
   "source": [
    "wavelengths = color_data['wavelengths']\n",
    "wavelengths"
   ]
  },
  {
   "cell_type": "markdown",
   "metadata": {},
   "source": [
    "And finally, the array `similarities` are the similarity judgments:"
   ]
  },
  {
   "cell_type": "code",
   "execution_count": null,
   "metadata": {},
   "outputs": [],
   "source": [
    "similarities = color_data['similarities']\n",
    "similarities"
   ]
  },
  {
   "cell_type": "markdown",
   "metadata": {},
   "source": [
    "<div class=\"alert alert-success\">Now that you know how MDS and hierarchical clustering work, try to think about how you would expect them to behave on similarity judgments of color. Do you think MDS would be better, or the dendrogram? Justify your answer, and make sure to describe what you think the better representation would look like.</div>"
   ]
  },
  {
   "cell_type": "markdown",
   "metadata": {
    "deletable": false,
    "nbgrader": {
     "cell_type": "markdown",
     "checksum": "14b047e279089bd4f62ad09256bbcbec",
     "grade": true,
     "grade_id": "part_a",
     "locked": false,
     "points": 1,
     "schema_version": 3,
     "solution": true
    }
   },
   "source": [
    "YOUR ANSWER HERE"
   ]
  },
  {
   "cell_type": "markdown",
   "metadata": {},
   "source": [
    "---\n",
    "\n",
    "## Part B (1 point)"
   ]
  },
  {
   "cell_type": "markdown",
   "metadata": {},
   "source": [
    "Louis goes ahead and uses the `mds` function to compute the 2D spatial representation of the data:"
   ]
  },
  {
   "cell_type": "code",
   "execution_count": null,
   "metadata": {
    "deletable": false,
    "editable": false,
    "nbgrader": {
     "cell_type": "code",
     "checksum": "7d518035857f4bf75f0c8828730b71e6",
     "grade": false,
     "grade_id": "color_points",
     "locked": true,
     "schema_version": 3,
     "solution": false
    }
   },
   "outputs": [],
   "source": [
    "color_points = mds(similarities)\n",
    "color_points"
   ]
  },
  {
   "cell_type": "markdown",
   "metadata": {},
   "source": [
    "<div class=\"alert alert-success\">However, Louis wasn't paying very close attention to how Alyssa used MDS algorithm, and can't remember how to plot the data. Help Louis visualize the results of running MDS on the color data by plotting the 2D points `color_points`. Label the points with the wavelengths they correspond to using the `axis.text` function (like what you did for the music data in the previous problem). The points should be colored according to the color they correspond to, and should be set to size 100 so they are large enough to see easily. Also, don't forget to give your plot a title and scale your axes equally! Your solution can be done in 4 lines of code.</div>"
   ]
  },
  {
   "cell_type": "markdown",
   "metadata": {},
   "source": [
    "_Important Note:_ You should use `axis.scatter` to create your plot, and you should only call it <em>once</em>. However, you can call `plt.text` multiple times. Do not use any other plotting functions."
   ]
  },
  {
   "cell_type": "code",
   "execution_count": null,
   "metadata": {},
   "outputs": [],
   "source": [
    "# get a handle to an axis object, then close the plot\n",
    "axis = plt.gca()\n",
    "plt.close()\n",
    "\n",
    "# look up documentation on axis.scatter\n",
    "axis.scatter?"
   ]
  },
  {
   "cell_type": "code",
   "execution_count": null,
   "metadata": {
    "deletable": false,
    "nbgrader": {
     "cell_type": "code",
     "checksum": "5ad5be6ea28842aad0cfcac5ee92df69",
     "grade": false,
     "grade_id": "plot_color_mds",
     "locked": false,
     "schema_version": 3,
     "solution": true
    }
   },
   "outputs": [],
   "source": [
    "# create the figure\n",
    "fig, axis = plt.subplots()\n",
    "\n",
    "# YOUR CODE HERE\n",
    "raise NotImplementedError()"
   ]
  },
  {
   "cell_type": "markdown",
   "metadata": {},
   "source": [
    "<div class=\"alert alert-info\">Note: If the colors you're seeing after implementing `plot_color_mds` don't seem quite right, don't despair! Read on for a hint on why this might be the case. </div>"
   ]
  },
  {
   "cell_type": "code",
   "execution_count": null,
   "metadata": {
    "deletable": false,
    "editable": false,
    "nbgrader": {
     "cell_type": "code",
     "checksum": "07bd34c0e253c6bd14e88959b0220f0e",
     "grade": true,
     "grade_id": "test_plot_color_mds",
     "locked": false,
     "points": 1,
     "schema_version": 3,
     "solution": false
    }
   },
   "outputs": [],
   "source": [
    "\"\"\"Check that the color MDS data was correctly plotted.\"\"\"\n",
    "from numpy.testing import assert_array_equal\n",
    "from nose.tools import assert_equal, assert_not_equal\n",
    "from plotchecker import ScatterPlotChecker\n",
    "\n",
    "# check that data hasn't changed\n",
    "cd = np.load(\"data/color.npz\")\n",
    "assert_array_equal(rgba, cd['rgba'])\n",
    "assert_array_equal(wavelengths, cd['wavelengths'])\n",
    "assert_array_equal(similarities, cd['similarities'])\n",
    "assert_array_equal(color_points, mds(similarities))\n",
    "\n",
    "# check the correct data was plotted\n",
    "pc = ScatterPlotChecker(axis)\n",
    "pc.assert_x_data_equal(color_points[:, 0])\n",
    "pc.assert_y_data_equal(color_points[:, 1])\n",
    "\n",
    "# check that the correct size and colors were used\n",
    "pc.assert_colors_equal(rgba)\n",
    "pc.assert_sizes_equal(100)\n",
    "\n",
    "# check that the wavelength labels are correct\n",
    "pc.assert_textlabels_equal([str(x) for x in wavelengths])\n",
    "pc.assert_textpoints_equal(color_points)\n",
    "\n",
    "# check that a title was included\n",
    "pc.assert_title_exists()\n",
    "\n",
    "# check that dimensions are not distorted\n",
    "assert axis.get_aspect() == 'equal'\n",
    "\n",
    "print(\"Success!\")"
   ]
  },
  {
   "cell_type": "markdown",
   "metadata": {},
   "source": [
    "---\n",
    "\n",
    "## Part C (0.5 points)"
   ]
  },
  {
   "cell_type": "markdown",
   "metadata": {},
   "source": [
    "<div class=\"alert alert-success\">After getting your help to write his code, Louis looks at the resulting plot, and is dismayed to see that the MDS representation of colors doesn't seem to make any sense. Louis goes to Alyssa for help. She takes a look at his code, and tells him that he ran the MDS algorithm on the wrong data. What is wrong with Louis' solution?</div>"
   ]
  },
  {
   "cell_type": "markdown",
   "metadata": {
    "deletable": false,
    "nbgrader": {
     "cell_type": "markdown",
     "checksum": "ce00860835123857e8c096e3fdba248a",
     "grade": true,
     "grade_id": "plot_color_mds_bug",
     "locked": false,
     "points": 0.25,
     "schema_version": 3,
     "solution": true
    }
   },
   "source": [
    "YOUR ANSWER HERE"
   ]
  },
  {
   "cell_type": "markdown",
   "metadata": {},
   "source": [
    "<div class=\"alert alert-success\">Once you have figured out what is wrong with Louis' solution, copy and paste your plotting code from above into the following cell. Add a new line that re-runs the MDS algorithm, and plots those new points instead of the old points. Store the new points into a variable called `new_color_points`, and make sure you replace all instances of `color_points` with `new_color_points`. Your solution can be done in 5 lines of code.</div>"
   ]
  },
  {
   "cell_type": "markdown",
   "metadata": {},
   "source": [
    "_Important Note:_ You should use `axis.scatter` to create your plot, and you should only call it <em>once</em>. However, you can call `plt.text` multiple times. Do not use any other plotting functions."
   ]
  },
  {
   "cell_type": "code",
   "execution_count": null,
   "metadata": {
    "deletable": false,
    "nbgrader": {
     "cell_type": "code",
     "checksum": "1f85fdd8443af6fb11281b06b69b90de",
     "grade": false,
     "grade_id": "correct_color_mds",
     "locked": false,
     "schema_version": 3,
     "solution": true
    }
   },
   "outputs": [],
   "source": [
    "# create the figure\n",
    "fig, axis = plt.subplots()\n",
    "\n",
    "# YOUR CODE HERE\n",
    "raise NotImplementedError()"
   ]
  },
  {
   "cell_type": "markdown",
   "metadata": {},
   "source": [
    "After fixing the plot, does it more closely match your intuitions from Part A? (You do not need to write a response to this question, but you should think about the answer)."
   ]
  },
  {
   "cell_type": "code",
   "execution_count": null,
   "metadata": {},
   "outputs": [],
   "source": []
  },
  {
   "cell_type": "code",
   "execution_count": null,
   "metadata": {
    "deletable": false,
    "editable": false,
    "nbgrader": {
     "cell_type": "code",
     "checksum": "49d7ff9a26cfeaebdcf8689a8a3381db",
     "grade": true,
     "grade_id": "test_correct_color_mds",
     "locked": false,
     "points": 0.25,
     "schema_version": 3,
     "solution": false
    }
   },
   "outputs": [],
   "source": [
    "\"\"\"Check that the color MDS data was correctly plotted.\"\"\"\n",
    "from numpy.testing import assert_array_equal, assert_allclose\n",
    "from nose.tools import assert_equal, assert_not_equal\n",
    "from plotchecker import ScatterPlotChecker\n",
    "\n",
    "# check that data hasn't changed\n",
    "cd = np.load(\"data/color.npz\")\n",
    "assert_array_equal(rgba, cd['rgba'])\n",
    "assert_array_equal(wavelengths, cd['wavelengths'])\n",
    "assert_array_equal(similarities, cd['similarities'])\n",
    "assert_equal(new_color_points.shape, (14, 2))\n",
    "assert_allclose(new_color_points[0], np.array([-0.42851154, -0.17449531]))\n",
    "assert_allclose(new_color_points[-1], np.array([-0.26443264,  0.48598972]))\n",
    "# assert_allclose(new_color_points[0], np.array([-0.39802631, -0.18197825]))\n",
    "# assert_allclose(new_color_points[-1], np.array([-0.29100923,  0.49663493]))\n",
    "\n",
    "# check the correct data was plotted\n",
    "pc = ScatterPlotChecker(axis)\n",
    "pc.assert_x_data_equal(new_color_points[:, 0])\n",
    "pc.assert_y_data_equal(new_color_points[:, 1])\n",
    "\n",
    "# check that the correct size and colors were used\n",
    "pc.assert_colors_equal(rgba)\n",
    "pc.assert_sizes_equal(100)\n",
    "\n",
    "# check that the wavelength labels are correct\n",
    "pc.assert_textlabels_equal([str(x) for x in wavelengths])\n",
    "pc.assert_textpoints_equal(new_color_points)\n",
    "\n",
    "# check that a title was included\n",
    "pc.assert_title_exists()\n",
    "\n",
    "# check that dimensions are not distorted\n",
    "assert axis.get_aspect() == 'equal'\n",
    "\n",
    "print(\"Success!\")"
   ]
  },
  {
   "cell_type": "markdown",
   "metadata": {},
   "source": [
    "---\n",
    "\n",
    "## Part D (0.5 points)"
   ]
  },
  {
   "cell_type": "markdown",
   "metadata": {},
   "source": [
    "<div class=\"alert alert-success\">Louis also wants to try looking at the data with a dendrogram, but again wasn't paying very close attention to what Alyssa did earlier. Help him produce the correct dendrogram plot. Use the same `plot_dendrogram` function that you used on the previous problem, and don't forget to set a title. You should use the wavelengths as your x-axis tick labels. Note that for this exercise, you should use the optional \"colors\" keyword argument to pass the rgb values to the dendrogram function (this is helpful for visualization). Your answer can be done in 2 lines of code.</div>"
   ]
  },
  {
   "cell_type": "code",
   "execution_count": null,
   "metadata": {
    "deletable": false,
    "nbgrader": {
     "cell_type": "code",
     "checksum": "03d1dd09c86441ac5a6f425218a44a65",
     "grade": false,
     "grade_id": "color_dendrogram",
     "locked": false,
     "schema_version": 3,
     "solution": true
    }
   },
   "outputs": [],
   "source": [
    "# create the figure\n",
    "fig, axis = plt.subplots()\n",
    "\n",
    "# YOUR CODE HERE\n",
    "raise NotImplementedError()"
   ]
  },
  {
   "cell_type": "markdown",
   "metadata": {},
   "source": [
    "Is this a good representation for the color data? Again, you do not need to write a response to this question, but you should think about the answer."
   ]
  },
  {
   "cell_type": "code",
   "execution_count": null,
   "metadata": {
    "deletable": false,
    "editable": false,
    "nbgrader": {
     "cell_type": "code",
     "checksum": "5d61288c4babadf23fd546fd29bed43a",
     "grade": true,
     "grade_id": "test_color_dendrogram",
     "locked": false,
     "points": 0.5,
     "schema_version": 3,
     "solution": false
    }
   },
   "outputs": [],
   "source": [
    "\"\"\"Check that the dendrogram function was correctly used for the kinship data.\"\"\"\n",
    "from numpy.testing import assert_array_equal\n",
    "from nose.tools import assert_equal, assert_not_equal\n",
    "from plotchecker import PlotChecker\n",
    "\n",
    "# check that data hasn't changed\n",
    "cd = np.load(\"data/color.npz\")\n",
    "assert_array_equal(rgba, cd['rgba'])\n",
    "assert_array_equal(wavelengths, cd['wavelengths'])\n",
    "assert_array_equal(similarities, cd['similarities'])\n",
    "\n",
    "# check that a title was included\n",
    "pc = PlotChecker(axis)\n",
    "pc.assert_title_exists()\n",
    "\n",
    "# check that the labels are correct\n",
    "labels = sorted([int(x.get_text()) for x in axis.get_xticklabels()])\n",
    "assert_array_equal(labels, wavelengths, \"color labels are incorrect\")\n",
    "\n",
    "# check that the dissimilarities are correct\n",
    "assert_array_equal(dissimilarities, 1 - similarities, \"color dissimilarities are incorrect\")\n",
    "\n",
    "print(\"Success!\")"
   ]
  }
 ],
 "metadata": {
  "kernelspec": {
   "display_name": "Python 3",
   "language": "python",
   "name": "python3"
  },
  "language_info": {
   "codemirror_mode": {
    "name": "ipython",
    "version": 3
   },
   "file_extension": ".py",
   "mimetype": "text/x-python",
   "name": "python",
   "nbconvert_exporter": "python",
   "pygments_lexer": "ipython3",
   "version": "3.7.4"
  }
 },
 "nbformat": 4,
 "nbformat_minor": 1
}
