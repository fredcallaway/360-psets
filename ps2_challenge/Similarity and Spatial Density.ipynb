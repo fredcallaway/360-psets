{
 "cells": [
  {
   "cell_type": "markdown",
   "metadata": {},
   "source": [
    "Change the following variable to `True` if you want us to grade this challenge problem. \n",
    "\n",
    "**IMPORTANT**: You can only get points for _one_ challenge problem per problem set. This means that even if you complete both challenge problems on this problem set, we will only count your best score between the two."
   ]
  },
  {
   "cell_type": "code",
   "execution_count": null,
   "metadata": {},
   "outputs": [],
   "source": [
    "SUBMIT_CHALLENGE = False"
   ]
  },
  {
   "cell_type": "markdown",
   "metadata": {},
   "source": [
    "## Similarity and Spatial Density"
   ]
  },
  {
   "cell_type": "markdown",
   "metadata": {},
   "source": [
    "<div class=\"alert alert-success\">\n",
    "Read Krumhansl's classic paper \"Concerning the Applicability of Geometric Models to Similarity Data.\" For this challenge problem you should summarize Krumhansl's proposal, making reference to Tversky's critique of metric similarity spaces and Shepard's theory of multidimensional scaling (MDS). Your response should be 3-5 paragraphs in length and should also include your evaluation of the argument, including any objections you might have. \n",
    "</div>\n",
    "\n",
    "**Note**: You can access the Krumhansl article [here](https://pdfs.semanticscholar.org/9208/4fa819299396da2316d4dab0e82c3d92e5f0.pdf)."
   ]
  },
  {
   "cell_type": "code",
   "execution_count": null,
   "metadata": {
    "deletable": false,
    "nbgrader": {
     "cell_type": "code",
     "checksum": "c0a79c97868b5a9c9408dcce1764baef",
     "grade": true,
     "grade_id": "challenge_density",
     "locked": false,
     "points": 1,
     "schema_version": 3,
     "solution": true
    }
   },
   "outputs": [],
   "source": [
    "# YOUR CODE HERE\n",
    "raise NotImplementedError()"
   ]
  }
 ],
 "metadata": {
  "kernelspec": {
   "display_name": "Python 3",
   "language": "python",
   "name": "python3"
  },
  "language_info": {
   "codemirror_mode": {
    "name": "ipython",
    "version": 3
   },
   "file_extension": ".py",
   "mimetype": "text/x-python",
   "name": "python",
   "nbconvert_exporter": "python",
   "pygments_lexer": "ipython3",
   "version": "3.7.4"
  }
 },
 "nbformat": 4,
 "nbformat_minor": 1
}
