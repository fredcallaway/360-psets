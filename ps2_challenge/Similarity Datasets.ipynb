{
 "cells": [
  {
   "cell_type": "code",
   "execution_count": null,
   "metadata": {},
   "outputs": [],
   "source": [
    "%matplotlib inline\n",
    "import matplotlib.pyplot as plt\n",
    "import numpy as np\n",
    "from representations import mds, plot_dendrogram"
   ]
  },
  {
   "cell_type": "markdown",
   "metadata": {},
   "source": [
    "Michael Lee has an excellent page full of datasets that include human similarity judgments: [http://faculty.sites.uci.edu/mdlee/similarity-data/](http://faculty.sites.uci.edu/mdlee/similarity-data/).\n",
    "\n",
    "To access this data, download the zip file using the function `download_similarity_datasets`. Note that you will need an internet connection for this! Also, if you want to see what this function is doing, you can look at its source code using the double question mark:"
   ]
  },
  {
   "cell_type": "code",
   "execution_count": null,
   "metadata": {},
   "outputs": [],
   "source": [
    "from util import download_similarity_datasets\n",
    "download_similarity_datasets??"
   ]
  },
  {
   "cell_type": "code",
   "execution_count": null,
   "metadata": {},
   "outputs": [],
   "source": [
    "dataset_location = download_similarity_datasets()"
   ]
  },
  {
   "cell_type": "markdown",
   "metadata": {},
   "source": [
    "We can take a look at what files we now have:"
   ]
  },
  {
   "cell_type": "code",
   "execution_count": null,
   "metadata": {},
   "outputs": [],
   "source": [
    "import os\n",
    "print(os.listdir(dataset_location))"
   ]
  },
  {
   "cell_type": "markdown",
   "metadata": {},
   "source": [
    "You'll notice that there are `.m` and `.mat` files. The `.m` files are Matlab scripts, so we'll just ignore those. The `.mat` files are Matlab data files (described on the website above) and we can load them into Python using the scipy function `scipy.io.loadmat`. We've written a helper function called `load_dataset` to do this for you, but you can see what this function is doing by using the double question marks:"
   ]
  },
  {
   "cell_type": "code",
   "execution_count": null,
   "metadata": {},
   "outputs": [],
   "source": [
    "from util import load_dataset\n",
    "load_dataset??"
   ]
  },
  {
   "cell_type": "markdown",
   "metadata": {},
   "source": [
    "As an example, here is some data that is similarity judgments of spoken letters:"
   ]
  },
  {
   "cell_type": "code",
   "execution_count": null,
   "metadata": {},
   "outputs": [],
   "source": [
    "filename = os.path.join(dataset_location, 'auditory.mat')\n",
    "data = load_dataset(filename)\n",
    "data"
   ]
  },
  {
   "cell_type": "markdown",
   "metadata": {
    "collapsed": true
   },
   "source": [
    "---\n",
    "## Part A (0.5 points)\n",
    "\n",
    "In Part A of this challenge, you will select a new dataset from those downloaded above and analyze it."
   ]
  },
  {
   "cell_type": "markdown",
   "metadata": {},
   "source": [
    "<div class=\"alert alert-success\">Select a dataset. Go to the website above, find the relevant paper, and read its abstract. Write two sentences below describing the stimuli and what kind of judgment was being made.</div>"
   ]
  },
  {
   "cell_type": "markdown",
   "metadata": {
    "collapsed": true,
    "deletable": false,
    "nbgrader": {
     "cell_type": "markdown",
     "checksum": "204c6d0bf8859bbad0bf2a76acbbf17a",
     "grade": true,
     "grade_id": "challenge-a-describe",
     "locked": false,
     "points": 0.1,
     "schema_version": 3,
     "solution": true
    }
   },
   "source": [
    "YOUR ANSWER HERE"
   ]
  },
  {
   "cell_type": "markdown",
   "metadata": {},
   "source": [
    "<div class=\"alert alert-success\">Use the tools previously seen in this problem set to create 2 or 3 plots revealing patterns or structure present in the data. You may want to create multiple subplots to do this (there's an example in Problem Set 0 of how to create multiple subplots with `plt.subplots`).</div>"
   ]
  },
  {
   "cell_type": "code",
   "execution_count": null,
   "metadata": {
    "deletable": false,
    "nbgrader": {
     "cell_type": "code",
     "checksum": "bc10970c9cee3e32639fee90fc671204",
     "grade": false,
     "grade_id": "challenge-a-plot",
     "locked": false,
     "schema_version": 3,
     "solution": true
    }
   },
   "outputs": [],
   "source": [
    "def plot_data():\n",
    "    \"\"\"Plots data from one of the provided data sets.\"\"\"\n",
    "    # YOUR CODE HERE\n",
    "    raise NotImplementedError()"
   ]
  },
  {
   "cell_type": "markdown",
   "metadata": {},
   "source": [
    "Here's a cell to test your plotting:"
   ]
  },
  {
   "cell_type": "code",
   "execution_count": null,
   "metadata": {
    "deletable": false,
    "editable": false,
    "nbgrader": {
     "cell_type": "code",
     "checksum": "60d0e8343ddca0569ffdc9fa5603880f",
     "grade": true,
     "grade_id": "challenge-a-grade",
     "locked": false,
     "points": 0.15,
     "schema_version": 3,
     "solution": false
    }
   },
   "outputs": [],
   "source": [
    "plot_data()"
   ]
  },
  {
   "cell_type": "markdown",
   "metadata": {},
   "source": [
    "<div class=\"alert alert-success\">Write a paragraph of at least 100 words describing what you observe from the plots.</div>"
   ]
  },
  {
   "cell_type": "markdown",
   "metadata": {
    "collapsed": true,
    "deletable": false,
    "nbgrader": {
     "cell_type": "markdown",
     "checksum": "435ff75bec51729c021adddc5523a865",
     "grade": true,
     "grade_id": "challenge-a-analyze",
     "locked": false,
     "points": 0.25,
     "schema_version": 3,
     "solution": true
    }
   },
   "source": [
    "YOUR ANSWER HERE"
   ]
  },
  {
   "cell_type": "markdown",
   "metadata": {
    "collapsed": true
   },
   "source": [
    "---\n",
    "## Part B (0.5 points)\n",
    "\n",
    "In Part B of this challenge, you will collect a new set of similarity data and explore it."
   ]
  },
  {
   "cell_type": "markdown",
   "metadata": {},
   "source": [
    "<div class=\"alert alert-success\">Select a domain that you think has an interesting similarity space (e.g., ponies from My Little Pony, nose shapes of California politicians). Be creative! Your set should have between 5 and 10 items. You should collect pairwise similarity ratings from at least 5 people (you and at least 4 others). Describe the domain that you chose, and give a bulleted list of the items in your dataset.</div>"
   ]
  },
  {
   "cell_type": "markdown",
   "metadata": {
    "collapsed": true,
    "deletable": false,
    "nbgrader": {
     "cell_type": "markdown",
     "checksum": "534da8962d3114c906186ff07ad857e2",
     "grade": true,
     "grade_id": "challenge-b-describe",
     "locked": false,
     "points": 0.1,
     "schema_version": 3,
     "solution": true
    }
   },
   "source": [
    "YOUR ANSWER HERE"
   ]
  },
  {
   "cell_type": "markdown",
   "metadata": {},
   "source": [
    "<div class=\"alert alert-success\">In the following cell, construct a NumPy array that includes the raw similarity scores from each participant. Then, return the average similarity score across participants.</div>"
   ]
  },
  {
   "cell_type": "code",
   "execution_count": null,
   "metadata": {
    "deletable": false,
    "nbgrader": {
     "cell_type": "code",
     "checksum": "b66dff557d5814a449c8ebe1ac34ad69",
     "grade": false,
     "grade_id": "similarities",
     "locked": false,
     "schema_version": 3,
     "solution": true
    }
   },
   "outputs": [],
   "source": [
    "def similarities():\n",
    "    \"\"\"Returns a matrix of similarity scores, averaged across participants.\"\"\"\n",
    "    # YOUR CODE HERE\n",
    "    raise NotImplementedError()"
   ]
  },
  {
   "cell_type": "markdown",
   "metadata": {},
   "source": [
    "<div class=\"alert alert-success\">Create 2 or 3 plots revealing patterns or structure present in this data.</div>"
   ]
  },
  {
   "cell_type": "code",
   "execution_count": null,
   "metadata": {
    "deletable": false,
    "nbgrader": {
     "cell_type": "code",
     "checksum": "c2fb6f40af1b7af71d5200aac9ede6f8",
     "grade": false,
     "grade_id": "challenge-b-plot",
     "locked": false,
     "schema_version": 3,
     "solution": true
    }
   },
   "outputs": [],
   "source": [
    "def plot_collected_data(similarities):\n",
    "    \"\"\"Plots data from the data set you collected.\"\"\"\n",
    "    # YOUR CODE HERE\n",
    "    raise NotImplementedError()"
   ]
  },
  {
   "cell_type": "markdown",
   "metadata": {},
   "source": [
    "Here is a cell to test out your code:"
   ]
  },
  {
   "cell_type": "code",
   "execution_count": null,
   "metadata": {
    "deletable": false,
    "editable": false,
    "nbgrader": {
     "cell_type": "code",
     "checksum": "2a24b50fb6f2dc96c31363f77a8f8613",
     "grade": true,
     "grade_id": "challenge-b-plots",
     "locked": false,
     "points": 0.15,
     "schema_version": 3,
     "solution": false
    }
   },
   "outputs": [],
   "source": [
    "plot_collected_data(similarities())"
   ]
  },
  {
   "cell_type": "markdown",
   "metadata": {},
   "source": [
    "<div class=\"alert alert-success\">Write a paragraph of at least 100 words describing what you observe from the plots.</div>"
   ]
  },
  {
   "cell_type": "markdown",
   "metadata": {
    "collapsed": true,
    "deletable": false,
    "nbgrader": {
     "cell_type": "markdown",
     "checksum": "baa8c3ac4aecaa5f750025baa03498a2",
     "grade": true,
     "grade_id": "challenge-b-analyze",
     "locked": false,
     "points": 0.25,
     "schema_version": 3,
     "solution": true
    }
   },
   "source": [
    "YOUR ANSWER HERE"
   ]
  }
 ],
 "metadata": {
  "kernelspec": {
   "display_name": "Python 3",
   "language": "python",
   "name": "python3"
  },
  "language_info": {
   "codemirror_mode": {
    "name": "ipython",
    "version": 3
   },
   "file_extension": ".py",
   "mimetype": "text/x-python",
   "name": "python",
   "nbconvert_exporter": "python",
   "pygments_lexer": "ipython3",
   "version": "3.7.4"
  }
 },
 "nbformat": 4,
 "nbformat_minor": 1
}
